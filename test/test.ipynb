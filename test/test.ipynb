{
 "cells": [
  {
   "cell_type": "code",
   "execution_count": 19,
   "metadata": {},
   "outputs": [],
   "source": [
    "#imports\n",
    "%load_ext autoreload\n",
    "%autoreload 2\n",
    "import numpy as np\n",
    "import scipy as sp\n",
    "from scipy import sparse\n",
    "import matplotlib.pyplot as plt\n",
    "from scipy import special\n",
    "from random import gauss\n",
    "#import hdf5storage\n",
    "import h5py\n",
    "import timeit\n",
    "from numba import jit\n",
    "#from sympy.solvers.solveset import nonlinsolve\n",
    "#from sympy.core.symbol import symbols\n",
    "#from sympy import exp\n",
    "from scipy import stats\n",
    "import os\n",
    "import sys\n",
    "module_path = os.path.abspath(os.path.join('..'))\n",
    "if module_path not in sys.path:\n",
    "    sys.path.append(module_path)\n",
    "from core.analysis import *\n",
    "from core.simulation import *"
   ]
  },
  {
   "cell_type": "code",
   "execution_count": null,
   "metadata": {
    "collapsed": true
   },
   "outputs": [],
   "source": [
    "####################################################################################################### \n",
    "#(RUN ONLY IF NEEDED) \n",
    "#Obtain 1-normalized laplacian eigenvalues & eigenvectors from Selen's data and save them to file\n",
    "\n",
    "f = h5py.File('G:/Macbook Stuff/Downloads/NeuralFieldModelv2/100307_Laplace.mat', 'r')\n",
    "Adjacency = sparse.csc_matrix( (f['combined']['A']['data'], f['combined']['A']['ir'], f['combined']['A']['jc']) ).toarray()\n",
    "CC = np.asarray(f['CC']['restInds'], dtype=int)\n",
    "#Laplacian = sparse.csc_matrix( (f['combined']['L']['data'], f['combined']['L']['ir'], f['combined']['L']['jc']) ).toarray()\n",
    "#Degree = sparse.csc_matrix( (f['combined']['DegreeM']['data'], f['combined']['DegreeM']['ir'], f['combined']['DegreeM']['jc']) ).toarray()\n",
    "f.close()\n",
    "indices = np.array([elem[0] for elem in CC])-1\n",
    "Adjacency = Adjacency[indices,:]\n",
    "Adjacency = Adjacency[:,indices]\n",
    "Deg=np.sum(Adjacency, axis=0)\n",
    "sqrt_Deg=np.power(Deg,-0.5)\n",
    "Degree_Matrix=sp.sparse.diags(Deg)\n",
    "sqrt_Degree_Matrix=sp.sparse.diags(sqrt_Deg)\n",
    "regLap = Degree_Matrix - sp.sparse.csc_matrix(Adjacency)\n",
    "Laplacian = (sp.sparse.csc_matrix.dot(sqrt_Degree_Matrix,sp.sparse.csc_matrix.dot(regLap,sqrt_Degree_Matrix))).toarray()\n",
    "Laplacian[Laplacian>1]=1\n",
    "\n",
    "eigenvalues2, eigenvectors2 = np.linalg.eigh(Laplacian)\n",
    "#eigenvectors2 matrix: each COLUMN eigenvectors2[:,i] is a normalized eigenvector\n",
    "\n",
    "#do we want to set the first eigenvalues to the known value, which should be zero?\n",
    "#eigenvalues2[0] = 0\n",
    "#1-norm normalization\n",
    "for col in range(eigenvectors2.shape[1]):\n",
    "    eigenvectors2[:,col]/=np.sum(eigenvectors2[:,col])\n",
    "\n",
    "\n",
    "#np.save('G:/Macbook Stuff/Downloads/NeuralFieldModelv2/eigvals.npy', eigenvalues2)\n",
    "#np.save('G:/Macbook Stuff/Downloads/NeuralFieldModelv2/eigvecs.npy', eigenvectors2)\n"
   ]
  },
  {
   "cell_type": "code",
   "execution_count": 2,
   "metadata": {},
   "outputs": [],
   "source": [
    "#If known, read eigenvalues and eigenvectors from file\n",
    "eigenvalues2 = np.load('../data/eigvals.npy')\n",
    "#eigenvectors2 = np.load('G:/Macbook Stuff/Downloads/NeuralFieldModelv2/eigvecs.npy')"
   ]
  },
  {
   "cell_type": "code",
   "execution_count": 3,
   "metadata": {},
   "outputs": [],
   "source": [
    "#Set parameters and bounds for minimization algorithms\n",
    "aEE, bnds_aEE = 50, (0,500)\n",
    "aIE, bnds_aIE = 50, (0,500)\n",
    "aEI, bnds_aEI = 100, (0,500)\n",
    "aII, bnds_aII = 10, (0,500)\n",
    "dE, bnds_dE = 0.3, (0,20)\n",
    "dI, bnds_dI = 0.6, (0,20)\n",
    "P, bnds_P = 0, (0,10)\n",
    "Q, bnds_Q = 0, (0,10)\n",
    "sEE, bnds_sEE = 60, (0,500)\n",
    "sIE, bnds_sIE = 114, (0,500)\n",
    "sEI, bnds_sEI = 150, (0,500)\n",
    "sII, bnds_sII = 20, (0,500)\n",
    "#D, bnds_D = 1, (1,1)             #unchanged\n",
    "#tE, bnds_tE = 1, (0,10)          #unchanged\n",
    "#tI, bnds_tI = 1, (0,10)          #unchanged\n",
    "#snE, bnds_snE = 1, (1,1)        #unchanged\n",
    "#snI, bnds_snI = 1, (1,1)         #unchanged\n",
    "\n",
    "initial_guess=np.array([aEE,aIE,aEI,aII,dE,dI,P,Q,sEE,sIE,sEI,sII]) #,D,tE,tI,snE,snI]) \n",
    "bnds=[bnds_aEE,bnds_aIE,bnds_aEI,bnds_aII,bnds_dE,bnds_dI,bnds_P,bnds_Q,bnds_sEE,bnds_sIE,bnds_sEI,bnds_sII] #,bnds_D,bnds_tE,bnds_tI,bnds_snE,bnds_snI]\n",
    "\n",
    "Graph_Kernel='Gaussian'\n",
    "first_k=2\n",
    "True_Spectrum = 15*(np.arange(first_k,5000)**(-0.3))\n",
    "LSA=True\n",
    "Visual=True\n",
    "SaveFiles=False\n",
    "FilePath=' '\n",
    "\n",
    "Args = (eigenvalues2, Graph_Kernel, True_Spectrum, first_k, LSA, Visual, SaveFiles)"
   ]
  },
  {
   "cell_type": "code",
   "execution_count": 21,
   "metadata": {},
   "outputs": [
    {
     "name": "stdout",
     "output_type": "stream",
     "text": [
      "3 unique steady states were found\n",
      "Stable\n",
      "Unstable: no oscillations\n",
      "Stable\n",
      "Best (stable) steady state: 0, with Ess=0.0 Iss=0.2, Distance: 50.436\n"
     ]
    },
    {
     "data": {
      "text/plain": [
       "50.43555683876321"
      ]
     },
     "execution_count": 21,
     "metadata": {},
     "output_type": "execute_result"
    },
    {
     "data": {
      "image/png": "[encoded data removed]",
      "text/plain": [
       "<matplotlib.figure.Figure at 0xd39dbe0>"
      ]
     },
     "metadata": {},
     "output_type": "display_data"
    }
   ],
   "source": [
    "############################\n",
    "#single analysis for easy visualization (note that if there are multiple stedy states the visualization will refer to the best one)\n",
    "Full_Analysis(initial_guess, eigenvalues2, Graph_Kernel, True_Spectrum, first_k, LSA, Visual, SaveFiles, FilePath)"
   ]
  },
  {
   "cell_type": "code",
   "execution_count": null,
   "metadata": {
    "collapsed": true
   },
   "outputs": [],
   "source": [
    "############################\n",
    "#simple attempt at power spectrum fitting with a minimization algorithm. May get stuck in local minima.\n",
    "#playing around with tolerance and max number of iterations is often necessary, depending on initial conditions. e.g.\n",
    "#First run with fairly random initial guess: tol=1e-03, no maxiter (will take a while)\n",
    "#Run starting from a previously obtained result: tol=1e-08, 'maxiter':2000\n",
    "\n",
    "#initial_guess=better_result['x']\n",
    "result = sp.optimize.minimize(Full_Analysis, initial_guess, args=Args,\n",
    "                              method='Nelder-Mead',#'L-BFGS-B', \n",
    "                              bounds=bnds, \n",
    "                              tol=1e-08)\n",
    "                             # options={'maxiter':2000})"
   ]
  },
  {
   "cell_type": "code",
   "execution_count": null,
   "metadata": {
    "collapsed": true
   },
   "outputs": [],
   "source": [
    "############################\n",
    "#more complicated fitting attempt with basinhopping stochastic minimization\n",
    "#to obtain good results in sensible amounts of time, playing with minimization parameters is required\n",
    "#the relevant parameter are again tolerance and maxiter, similarly to above (which affect the local minimization loop)\n",
    "#but also niter and stepsize. these specify how many local minimizations we wish to carry out, \n",
    "#and the size of the basin-hopping random step inbetween local minimizations\n",
    "\n",
    "new_initial_guess=result['x']\n",
    "\n",
    "#sort of ugly, but need to defind bounds manually for basinhopping\n",
    "class MyBounds(object):\n",
    "    def __init__(self, xmax=[elem[1] for elem in bnds], xmin=[elem[0] for elem in bnds] ):\n",
    "        self.xmax = np.array(xmax)\n",
    "        self.xmin = np.array(xmin)\n",
    "    def __call__(self, **kwargs):\n",
    "        x = kwargs[\"x_new\"]\n",
    "        tmax = bool(np.all(x <= self.xmax))\n",
    "        tmin = bool(np.all(x >= self.xmin))\n",
    "        return tmax and tmin\n",
    "    #potential TODO: only accept parameter sets that return stable positive steady states (actually no: they might be locally near a suitable state. still worth to do local minimization)\n",
    "\n",
    "mybounds = MyBounds()\n",
    "\n",
    "minimizer_kwargs={'args':Args, 'method':'Nelder-Mead', 'bounds':bnds}#, 'tol':1e-09}#, 'options':{'maxiter':200}}\n",
    "\n",
    "better_result = sp.optimize.basinhopping(Full_Analysis, new_initial_guess, niter=30, stepsize=3,\n",
    "                                  minimizer_kwargs=minimizer_kwargs,\n",
    "                                  accept_test=mybounds)\n",
    "\n",
    "initial_guess=better_result['x']"
   ]
  },
  {
   "cell_type": "code",
   "execution_count": null,
   "metadata": {
    "collapsed": true
   },
   "outputs": [],
   "source": [
    "#re-analyze result of minimization procedure\n",
    "SStates, success = H_Simple_Steady_State(alpha_EE=better_result['x'][0], alpha_IE=better_result['x'][1], alpha_EI=better_result['x'][2], alpha_II=better_result['x'][3], \n",
    "                                         d_e=better_result['x'][4], d_i=better_result['x'][5], P=better_result['x'][6], Q=better_result['x'][7])\n",
    "SStates       \n",
    "\n",
    "SSnr=0\n",
    "\n",
    "Tr, Det, Jk = GraphWC_Jacobian_TrDet(Laplacian_eigenvalues=eigenvalues2, Graph_Kernel='Gaussian', Ess=SStates[0,SSnr], Iss=SStates[1,SSnr],\n",
    "                                     alpha_EE=better_result['x'][0], alpha_IE=better_result['x'][1], alpha_EI=better_result['x'][2], alpha_II=better_result['x'][3], d_e=better_result['x'][4], d_i=better_result['x'][5], \n",
    "                                     sigma_EE=better_result['x'][8], sigma_IE=better_result['x'][9], sigma_EI=better_result['x'][10], sigma_II=better_result['x'][11],  \n",
    "                                     D=1.0, tau_e=1.0, tau_i=1.0,)    \n",
    "\n",
    "\n",
    "Gmatrix = Graph_WC_SpatialPowerSpectrum(Laplacian_eigenvalues=eigenvalues2, Graph_Kernel='Gaussian', Ess=SStates[0,SSnr], Iss=SStates[1,SSnr],\n",
    "                                        alpha_EE=better_result['x'][0], alpha_IE=better_result['x'][1], alpha_EI=better_result['x'][2], alpha_II=better_result['x'][3], d_e=better_result['x'][4], d_i=better_result['x'][5], \n",
    "                                        sigma_EE=better_result['x'][8], sigma_IE=better_result['x'][9], sigma_EI=better_result['x'][10], sigma_II=better_result['x'][11],  \n",
    "                                        D=1.0, tau_e=1.0, tau_i=1.0,\n",
    "                                        sigma_noise_e=1.0, sigma_noise_i=1.0,\n",
    "                                        Visual=True)"
   ]
  },
  {
   "cell_type": "code",
   "execution_count": 22,
   "metadata": {},
   "outputs": [],
   "source": [
    "#comparison of numerical (nonlinear) simulations and (linearized) semi analytic results (any parameter set; grid laplacian only):\n",
    "#(can choose parameter set from 2015 paper, sort of. do we wanna parametrize the sigmoid?)\n",
    "#simulate (with no noise) on a grid to verify that steady state solution is correct (start directly from SS solution).\n",
    "#test for stability/instability/oscillations result by adding noise in the grid simulation\n",
    "#calculate linearized-model PS for grid-Laplacian; run noisy grid simulation and calculate PS (see handwritten notes) compare the two\n",
    "#\n",
    "################################################################################################\n",
    "#testing the correctness of the full parameter fit (minimization) algorithm result\n",
    "#(intended mainly for the (cortical) better_result parameter set)\n",
    "#\n",
    "#check via effect on linearized Jk eigenvalues if a nearby hopf bifurcation can be induced by changing P or some other parameter \n",
    "#(to ask rikkert: do we want this as a prior requirement in minimization? would be hard but doable)\n",
    "#\n",
    "#retest minimization algorithm, with objective the current best-fit PS obtained and random initial condition. see if other parameter combinations give the same, ideally converge to same par. set"
   ]
  },
  {
   "cell_type": "code",
   "execution_count": null,
   "metadata": {},
   "outputs": [],
   "source": []
  }
 ],
 "metadata": {
  "anaconda-cloud": {},
  "kernelspec": {
   "display_name": "Python 3",
   "language": "python",
   "name": "python3"
  },
  "language_info": {
   "codemirror_mode": {
    "name": "ipython",
    "version": 3
   },
   "file_extension": ".py",
   "mimetype": "text/x-python",
   "name": "python",
   "nbconvert_exporter": "python",
   "pygments_lexer": "ipython3",
   "version": "3.6.4"
  }
 },
 "nbformat": 4,
 "nbformat_minor": 2
}
